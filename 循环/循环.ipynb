{
 "cells": [
  {
   "metadata": {},
   "cell_type": "markdown",
   "source": "使用for in 循环实现从1到100的整数求和，$\\small{\\sum_{n=1}^{100}{n}}$",
   "id": "bef2efc246f7b9f1"
  },
  {
   "metadata": {
    "jupyter": {
     "is_executing": true
    }
   },
   "cell_type": "code",
   "source": [
    "total = 0\n",
    "for i in range(1,101):\n",
    "    total = total + i\n",
    "print(\"total is:\",total)"
   ],
   "id": "3f7dd2adad6e2b11",
   "outputs": [],
   "execution_count": null
  },
  {
   "metadata": {},
   "cell_type": "markdown",
   "source": "使用python内置的sum函数，省去了for循环",
   "id": "78843b40a2682325"
  },
  {
   "metadata": {},
   "cell_type": "code",
   "outputs": [],
   "execution_count": null,
   "source": "print(range(2,101,2))",
   "id": "d72b029c180e2cf6"
  },
  {
   "metadata": {},
   "cell_type": "markdown",
   "source": "**while循环**",
   "id": "8108c2439454aef1"
  },
  {
   "metadata": {},
   "cell_type": "markdown",
   "source": "使用while循环实现从1到100的整数求和，代码如下所示：",
   "id": "5ecb0cb13d7939b6"
  },
  {
   "metadata": {
    "ExecuteTime": {
     "end_time": "2025-08-09T18:15:34.203578Z",
     "start_time": "2025-08-09T18:15:34.195445Z"
    }
   },
   "cell_type": "code",
   "source": [
    "total=0\n",
    "i=1\n",
    "while i <= 100:\n",
    "    total = total + i\n",
    "    i=i+1\n",
    "print(\"total is:\",total)"
   ],
   "id": "c76af2d21c6b37a3",
   "outputs": [
    {
     "name": "stdout",
     "output_type": "stream",
     "text": [
      "total is: 5050\n"
     ]
    }
   ],
   "execution_count": 2
  },
  {
   "metadata": {},
   "cell_type": "markdown",
   "source": "**嵌套循环结构**",
   "id": "9bdbc0fa5b3312b1"
  },
  {
   "metadata": {
    "ExecuteTime": {
     "end_time": "2025-08-09T18:15:30.614537Z",
     "start_time": "2025-08-09T18:15:30.601663Z"
    }
   },
   "cell_type": "code",
   "source": [
    "for i in range(1,10):\n",
    "    for j in range(1,i+1):\n",
    "        print(f\"{i}*{j}={i*j}\",end='\\t')\n",
    "        # print(f'{i}*{j}={i*j}')\n",
    "    print()"
   ],
   "id": "8d11f7c17649be70",
   "outputs": [
    {
     "name": "stdout",
     "output_type": "stream",
     "text": [
      "1*1=1\t\n",
      "2*1=2\t2*2=4\t\n",
      "3*1=3\t3*2=6\t3*3=9\t\n",
      "4*1=4\t4*2=8\t4*3=12\t4*4=16\t\n",
      "5*1=5\t5*2=10\t5*3=15\t5*4=20\t5*5=25\t\n",
      "6*1=6\t6*2=12\t6*3=18\t6*4=24\t6*5=30\t6*6=36\t\n",
      "7*1=7\t7*2=14\t7*3=21\t7*4=28\t7*5=35\t7*6=42\t7*7=49\t\n",
      "8*1=8\t8*2=16\t8*3=24\t8*4=32\t8*5=40\t8*6=48\t8*7=56\t8*8=64\t\n",
      "9*1=9\t9*2=18\t9*3=27\t9*4=36\t9*5=45\t9*6=54\t9*7=63\t9*8=72\t9*9=81\t\n"
     ]
    }
   ],
   "execution_count": 1
  },
  {
   "metadata": {},
   "cell_type": "markdown",
   "source": [
    "例子3 猜数字游戏\n",
    "要求：计算机出一个 1 到 100 之间的随机数，玩家输入自己猜的数字，计算机给出对应的提示信息“大一点”、“小一点”或“猜对了”，如果玩家猜中了数字，计算机提示用户一共猜了多少次，游戏结束，否则游戏继续。"
   ],
   "id": "3575652156064f6d"
  },
  {
   "metadata": {
    "ExecuteTime": {
     "end_time": "2025-08-09T18:27:16.081609Z",
     "start_time": "2025-08-09T18:27:00.863331Z"
    }
   },
   "cell_type": "code",
   "source": [
    "\"\"\"\n",
    "猜数字小游戏\n",
    "\"\"\"\n",
    "import random\n",
    "answer =random.randrange(1,21)\n",
    "counter = 0\n",
    "while True:\n",
    "    counter += 1\n",
    "    num = int(input(\"请输入：\"))\n",
    "    if num < answer:\n",
    "        print(\"大一点\")\n",
    "    elif num > answer:\n",
    "        print(\"小一点\")\n",
    "    else:\n",
    "        print(\"猜对了\")\n",
    "        break\n",
    "print(f'你一共猜了{counter}次')"
   ],
   "id": "72c9a9406b269d55",
   "outputs": [
    {
     "name": "stdout",
     "output_type": "stream",
     "text": [
      "小一点\n",
      "小一点\n",
      "猜对了\n",
      "你一共猜了3次\n"
     ]
    }
   ],
   "execution_count": 4
  }
 ],
 "metadata": {
  "kernelspec": {
   "display_name": "Python 3",
   "language": "python",
   "name": "python3"
  },
  "language_info": {
   "codemirror_mode": {
    "name": "ipython",
    "version": 2
   },
   "file_extension": ".py",
   "mimetype": "text/x-python",
   "name": "python",
   "nbconvert_exporter": "python",
   "pygments_lexer": "ipython2",
   "version": "2.7.6"
  }
 },
 "nbformat": 4,
 "nbformat_minor": 5
}
