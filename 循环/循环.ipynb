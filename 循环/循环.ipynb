{
 "cells": [
  {
   "metadata": {},
   "cell_type": "markdown",
   "source": "使用for in 循环实现从1到100的整数求和，$\\small{\\sum_{n=1}^{100}{n}}$",
   "id": "bef2efc246f7b9f1"
  },
  {
   "metadata": {
    "jupyter": {
     "is_executing": true
    }
   },
   "cell_type": "code",
   "source": [
    "total = 0\n",
    "for i in range(1,101):\n",
    "    total = total + i\n",
    "print(\"total is:\",total)"
   ],
   "id": "3f7dd2adad6e2b11",
   "outputs": [],
   "execution_count": null
  },
  {
   "metadata": {},
   "cell_type": "markdown",
   "source": "使用python内置的sum函数，省去了for循环",
   "id": "78843b40a2682325"
  },
  {
   "metadata": {},
   "cell_type": "code",
   "outputs": [],
   "execution_count": null,
   "source": "print(range(2,101,2))",
   "id": "d72b029c180e2cf6"
  },
  {
   "metadata": {},
   "cell_type": "markdown",
   "source": "**while循环**",
   "id": "8108c2439454aef1"
  },
  {
   "metadata": {},
   "cell_type": "markdown",
   "source": "使用while循环实现从1到100的整数求和，代码如下所示：",
   "id": "5ecb0cb13d7939b6"
  },
  {
   "metadata": {
    "jupyter": {
     "is_executing": true
    }
   },
   "cell_type": "code",
   "source": [
    "total=0\n",
    "i=1\n",
    "while i <= 100:\n",
    "    total = total + i\n",
    "    i=i+1\n",
    "print(\"total is:\",total)"
   ],
   "id": "c76af2d21c6b37a3",
   "outputs": [],
   "execution_count": null
  },
  {
   "metadata": {},
   "cell_type": "markdown",
   "source": "**嵌套循环结构**",
   "id": "9bdbc0fa5b3312b1"
  },
  {
   "metadata": {},
   "cell_type": "code",
   "outputs": [],
   "execution_count": null,
   "source": [
    "for i in range(1,10):\n",
    "    for j in range(1,i+1):\n",
    "        print(f\"{i}*{j}={i*j}\",end='\\t')\n",
    "        # print(f'{i}*{j}={i*j}')\n",
    "    print()"
   ],
   "id": "8d11f7c17649be70"
  }
 ],
 "metadata": {
  "kernelspec": {
   "display_name": "Python 3",
   "language": "python",
   "name": "python3"
  },
  "language_info": {
   "codemirror_mode": {
    "name": "ipython",
    "version": 2
   },
   "file_extension": ".py",
   "mimetype": "text/x-python",
   "name": "python",
   "nbconvert_exporter": "python",
   "pygments_lexer": "ipython2",
   "version": "2.7.6"
  }
 },
 "nbformat": 4,
 "nbformat_minor": 5
}
