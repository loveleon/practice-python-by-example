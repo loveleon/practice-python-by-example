{
 "cells": [
  {
   "metadata": {},
   "cell_type": "markdown",
   "source": "**分支和循环结构实战**",
   "id": "e987388bb1adc866"
  },
  {
   "metadata": {},
   "cell_type": "markdown",
   "source": "例子1：100以内的素数",
   "id": "b59601fdd546db1b"
  },
  {
   "metadata": {},
   "cell_type": "markdown",
   "source": "说明：素数指的是只能被 1 和自身整除的正整数（不包括 1），之前我们写过判断素数的代码，这里相当于是一个升级版本。",
   "id": "498972fa01640950"
  },
  {
   "metadata": {
    "ExecuteTime": {
     "end_time": "2025-08-10T15:12:28.041203Z",
     "start_time": "2025-08-10T15:12:28.032636Z"
    }
   },
   "cell_type": "code",
   "source": [
    "\"\"\"\n",
    "功能：统计输出100以内的素数\n",
    "\"\"\"\n",
    "for i in range(2,100):\n",
    "    is_prime = True\n",
    "    for j in range(2,int(i**0.5)+1):\n",
    "        if i % j == 0 :\n",
    "            is_prime = False\n",
    "            break\n",
    "    if is_prime:\n",
    "        print(f'{i}',end='\\t')"
   ],
   "id": "47feb4c3f5cb4f6f",
   "outputs": [
    {
     "name": "stdout",
     "output_type": "stream",
     "text": [
      "2\t3\t5\t7\t11\t13\t17\t19\t23\t29\t31\t37\t41\t43\t47\t53\t59\t61\t67\t71\t73\t79\t83\t89\t97\t"
     ]
    }
   ],
   "execution_count": 6
  },
  {
   "metadata": {},
   "cell_type": "markdown",
   "source": "例子2：斐波那契数列",
   "id": "23c6b430c266ea37"
  },
  {
   "metadata": {},
   "cell_type": "markdown",
   "source": "要求：输出斐波那契数列中的前 20 个数。",
   "id": "e41623d640086cde"
  },
  {
   "metadata": {},
   "cell_type": "markdown",
   "source": "说明：斐波那契数列（Fibonacci sequence），通常也被称作黄金分割数列，是意大利数学家莱昂纳多·斐波那契（Leonardoda Fibonacci）在《计算之书》中研究理想假设条件下兔子成长率问题而引入的数列，因此这个数列也常被戏称为“兔子数列”。斐波那契数列的特点是数列的前两个数都是 1，从第三个数开始，每个数都是它前面两个数的和。按照这个规律，斐波那契数列的前 10 个数是：1, 1, 2, 3, 5, 8, 13, 21, 34, 55。斐波那契数列在现代物理、准晶体结构、化学等领域都有直接的应用。",
   "id": "b2285b9d816b84f3"
  },
  {
   "metadata": {
    "ExecuteTime": {
     "end_time": "2025-08-10T15:34:51.541385Z",
     "start_time": "2025-08-10T15:32:51.659235Z"
    }
   },
   "cell_type": "code",
   "source": [
    "\"\"\"\n",
    "功能：输出斐波那契数列中的前20个数\n",
    "\"\"\"\n",
    "a,b = 0,1\n",
    "for _ in range(20):\n",
    "    a,b = b,a+b\n",
    "    print(a,end='\\t')"
   ],
   "id": "f0a0be059756cfeb",
   "outputs": [
    {
     "name": "stdout",
     "output_type": "stream",
     "text": [
      "1\t1\t2\t3\t5\t8\t13\t21\t34\t55\t89\t144\t233\t377\t610\t987\t1597\t2584\t4181\t6765\t"
     ]
    }
   ],
   "execution_count": null
  },
  {
   "metadata": {},
   "cell_type": "markdown",
   "source": "例子3：寻找水仙花数",
   "id": "23d44a59b0b9ce5f"
  },
  {
   "metadata": {},
   "cell_type": "markdown",
   "source": "要求：找出 100 到 999 范围内的所有水仙花数。",
   "id": "390886aa206a0a57"
  },
  {
   "metadata": {},
   "cell_type": "markdown",
   "source": [
    "提示：在数论中，水仙花数（narcissistic number）也被称为超完全数字不变数、自恋数、自幂数、阿姆斯特朗数，它是一个\n",
    " 位非负整数，其各位数字的\n",
    " 次方和刚好等于该数本身，例如：\n",
    " ，所以 153 是一个水仙花数；\n",
    " ，所以 1634 也是一个水仙花数。对于三位数，解题的关键是将它拆分为个位、十位、百位，再判断是否满足水仙花数的要求，这一点利用 Python 中的//和%运算符其实很容易做到。"
   ],
   "id": "4b6aa6cc0ec3bf11"
  },
  {
   "metadata": {
    "ExecuteTime": {
     "end_time": "2025-08-10T15:52:58.442030Z",
     "start_time": "2025-08-10T15:52:58.432051Z"
    }
   },
   "cell_type": "code",
   "source": [
    "\"\"\"\n",
    "功能：输出水仙花数\n",
    "\"\"\"\n",
    "for num in range(100,1000):\n",
    "    i,j,k = num // 100,num // 10%10,num % 10\n",
    "    if num == i**3 + j**3 + k**3:\n",
    "        print(num,end='\\t')\n"
   ],
   "id": "fbbcdad86328641f",
   "outputs": [
    {
     "name": "stdout",
     "output_type": "stream",
     "text": [
      "153\t370\t371\t407\t"
     ]
    }
   ],
   "execution_count": 13
  },
  {
   "metadata": {},
   "cell_type": "markdown",
   "source": "上面利用//和%拆分一个数的小技巧在写代码的时候还是很常用的。我们要将一个不知道有多少位的正整数进行反转，例如将 12389 变成 98321，也可以利用这两个运算来实现，代码如下所示。",
   "id": "7435ac867fcdd326"
  },
  {
   "metadata": {
    "ExecuteTime": {
     "end_time": "2025-08-10T16:08:16.528182Z",
     "start_time": "2025-08-10T16:07:37.174780Z"
    }
   },
   "cell_type": "code",
   "source": [
    "\"\"\"\n",
    "正整数的反转\n",
    "\"\"\"\n",
    "num = int(input(\"请输出正整数\"))\n",
    "reversed_num = 0\n",
    "while num > 0:\n",
    "    reversed_num  = reversed_num * 10 + num % 10\n",
    "    num //= 10\n",
    "print(f'{reversed_num}',end='\\t')\n",
    "print(f\"x{reversed_num}x\")"
   ],
   "id": "fbee2418b0df5b74",
   "outputs": [
    {
     "name": "stdout",
     "output_type": "stream",
     "text": [
      "321\tx321x\n"
     ]
    }
   ],
   "execution_count": 20
  },
  {
   "metadata": {},
   "cell_type": "markdown",
   "source": "例子4：百钱百鸡问题",
   "id": "bf4146ee587a4772"
  },
  {
   "metadata": {},
   "cell_type": "markdown",
   "source": "说明：百钱百鸡是我国古代数学家张丘建在《算经》一书中提出的数学问题：鸡翁一值钱五，鸡母一值钱三，鸡雏三值钱一。百钱买百鸡，问鸡翁、鸡母、鸡雏各几何？翻译成现代文是：公鸡 5 元一只，母鸡 3 元一只，小鸡 1 元三只，用 100 块钱买一百只鸡，问公鸡、母鸡、小鸡各有多少只？\n",
   "id": "5e45b794722b8c8f"
  }
 ],
 "metadata": {
  "kernelspec": {
   "display_name": "Python 3",
   "language": "python",
   "name": "python3"
  },
  "language_info": {
   "codemirror_mode": {
    "name": "ipython",
    "version": 2
   },
   "file_extension": ".py",
   "mimetype": "text/x-python",
   "name": "python",
   "nbconvert_exporter": "python",
   "pygments_lexer": "ipython2",
   "version": "2.7.6"
  }
 },
 "nbformat": 4,
 "nbformat_minor": 5
}
