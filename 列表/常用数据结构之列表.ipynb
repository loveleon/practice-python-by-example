{
 "cells": [
  {
   "metadata": {},
   "cell_type": "raw",
   "source": [
    "常用数据结构之列表-1\n",
    "编程题：将一颗色子掷 6000 次，统计每种点数出现的次数。这个任务对大家来说应该是非常简单的，我们可以用 1 到 6 均匀分布的随机数来模拟掷色子，然后用 6 个变量分别记录每个点数出现的次数"
   ],
   "id": "4db01d7134bd111"
  },
  {
   "metadata": {
    "ExecuteTime": {
     "end_time": "2025-08-16T15:15:21.839798Z",
     "start_time": "2025-08-16T15:15:21.824229Z"
    }
   },
   "cell_type": "code",
   "source": [
    "from unittest import case\n",
    "\n",
    "\"\"\"\n",
    "将一颗色子掷6000次，统计每种点数出现的次数\n",
    "\"\"\"\n",
    "import random\n",
    "\n",
    "f1,f2,f3,f4,f5,f6 = 0,0,0,0,0,0\n",
    "for _ in range(6000):\n",
    "    # face = random.randrange(1,7)\n",
    "    face2 = random.randint(1,6)\n",
    "    match face2:\n",
    "        case 1:\n",
    "            f1 +=1\n",
    "        case 2:f2 +=1\n",
    "        case 3:f3 +=1\n",
    "        case 4:f4 +=1\n",
    "        case 5:f5 +=1\n",
    "        case 6:f6 +=1\n",
    "print(f1,f2,f3,f4,f5,f6)"
   ],
   "id": "94f270ccfa98dc00",
   "outputs": [
    {
     "name": "stdout",
     "output_type": "stream",
     "text": [
      "996 999 1005 960 1022 1018\n"
     ]
    }
   ],
   "execution_count": 2
  },
  {
   "metadata": {
    "ExecuteTime": {
     "end_time": "2025-08-16T15:21:30.995770Z",
     "start_time": "2025-08-16T15:21:30.979324Z"
    }
   },
   "cell_type": "code",
   "source": [
    "import random\n",
    "f1,f2,f3,f4,f5,f6 = 0,0,0,0,0,0\n",
    "for _ in range(6000):\n",
    "    face = random.randrange(1,7)\n",
    "    if face == 1:\n",
    "        f1 +=1\n",
    "    elif face == 2:\n",
    "        f2 +=1\n",
    "    elif face == 3:\n",
    "        f3 +=1\n",
    "    elif face == 4:\n",
    "        f4 +=1\n",
    "    elif face == 5:\n",
    "        f5 +=1\n",
    "    else:\n",
    "        f6 +=1\n",
    "\n",
    "print(f'1点出现了{f1}次')\n",
    "print(f'2点出现了{f2}次')\n",
    "print(f'3点出现了{f3}次')\n",
    "print(f'4点出现了{f4}次')\n",
    "print(f'5点出现了{f5}次')\n",
    "print(f'6点出现了{f6}次')"
   ],
   "id": "9612c70ba4303e9e",
   "outputs": [
    {
     "name": "stdout",
     "output_type": "stream",
     "text": [
      "1点出现了974次\n",
      "2点出现了1068次\n",
      "3点出现了960次\n",
      "4点出现了1017次\n",
      "5点出现了968次\n",
      "6点出现了1013次\n"
     ]
    }
   ],
   "execution_count": 3
  },
  {
   "metadata": {},
   "cell_type": "markdown",
   "source": [
    "python内置的list函数将其他序列变成列表。注意：list并不是一个普通的函数,它是创建列表对象的构造器。\n",
    "**说明**：通常并不建议将不同类型的元素放在同一个列表中，主要是操作起来极为不便。\n",
    "命名：在给列表类型的变量起名字是，变量名通常用复数形式的单词。"
   ],
   "id": "c9d1a07d3bab2602"
  },
  {
   "metadata": {
    "ExecuteTime": {
     "end_time": "2025-08-16T15:35:10.816089Z",
     "start_time": "2025-08-16T15:35:10.804915Z"
    }
   },
   "cell_type": "code",
   "source": [
    "items4 = list(range(1,7))\n",
    "items5 = list('hello')\n",
    "print(items4)\n",
    "print(items5)\n",
    "print(type(items4))\n",
    "print(type(items5))"
   ],
   "id": "4a55cd1eca1ef638",
   "outputs": [
    {
     "name": "stdout",
     "output_type": "stream",
     "text": [
      "[1, 2, 3, 4, 5, 6]\n",
      "['h', 'e', 'l', 'l', 'o']\n",
      "<class 'list'>\n",
      "<class 'list'>\n"
     ]
    }
   ],
   "execution_count": 1
  },
  {
   "metadata": {},
   "cell_type": "markdown",
   "source": "# 列表的运算",
   "id": "8fbbad5cd311bb30"
  },
  {
   "metadata": {},
   "cell_type": "markdown",
   "source": "<font color=blue size=4>使用+运算符实现两个列表的拼接,拼接运算会将两个列表中的元素连接起来放到一个列表中。</font>",
   "id": "ef89c8af4801c9c5"
  },
  {
   "metadata": {
    "ExecuteTime": {
     "end_time": "2025-08-16T15:42:26.122269Z",
     "start_time": "2025-08-16T15:42:26.114085Z"
    }
   },
   "cell_type": "code",
   "source": [
    "items5 = [35,12,99,45,66]\n",
    "items6 = [45,58,29]\n",
    "items7 = ['Python','Java','JavaScript']\n",
    "print(items5 + items6)\n",
    "print(items6 + items7)\n",
    "items5 += items6\n",
    "print(items5)"
   ],
   "id": "f48c7f4e97f43d0",
   "outputs": [
    {
     "name": "stdout",
     "output_type": "stream",
     "text": [
      "[35, 12, 99, 45, 66, 45, 58, 29]\n",
      "[45, 58, 29, 'Python', 'Java', 'JavaScript']\n",
      "[35, 12, 99, 45, 66, 45, 58, 29]\n"
     ]
    }
   ],
   "execution_count": 2
  },
  {
   "metadata": {},
   "cell_type": "markdown",
   "source": "<font color=blue size=4>使用*运算符实现列表的重复运算，*运算符会将列表元素重复指定的次数</font>",
   "id": "e203fe4ca958145a"
  },
  {
   "metadata": {
    "ExecuteTime": {
     "end_time": "2025-08-16T15:44:56.425514Z",
     "start_time": "2025-08-16T15:44:56.419663Z"
    }
   },
   "cell_type": "code",
   "source": [
    "print(items6*3)\n",
    "print(items7*2)"
   ],
   "id": "1cfbc406b14a016a",
   "outputs": [
    {
     "name": "stdout",
     "output_type": "stream",
     "text": [
      "[45, 58, 29, 45, 58, 29, 45, 58, 29]\n",
      "['Python', 'Java', 'JavaScript', 'Python', 'Java', 'JavaScript']\n"
     ]
    }
   ],
   "execution_count": 4
  },
  {
   "metadata": {},
   "cell_type": "markdown",
   "source": "<font color=blue size=4>可以使用in 或 not in运算符判断一个元素在不在列表中。</font>",
   "id": "d6f4798cf0c976cb"
  },
  {
   "metadata": {
    "ExecuteTime": {
     "end_time": "2025-08-16T15:48:25.412379Z",
     "start_time": "2025-08-16T15:48:25.404276Z"
    }
   },
   "cell_type": "code",
   "source": [
    "print(29 in items6) #True\n",
    "print(99 in items6) #False\n",
    "print('C++' not in items7) #True\n",
    "print('Java' not in items7)  #False"
   ],
   "id": "29912f4dfcf59e19",
   "outputs": [
    {
     "name": "stdout",
     "output_type": "stream",
     "text": [
      "True\n",
      "False\n",
      "True\n",
      "False\n"
     ]
    }
   ],
   "execution_count": 5
  },
  {
   "metadata": {},
   "cell_type": "markdown",
   "source": [
    "列表的索引运算：可以使用[]运算符，通过在[]中指定元素的位置来访问该元素。元素的位置可以是0到N-1的整数，也可以是-1到-N的整数，分别成为正向索引和反向索引，其中N代表列表元素的个数。\n",
    "对于正向索引，[0]可以访问列表中的第一个元素，[N-1]可以访问最后一个元素；\n",
    "对于方向索引，[-1]可以访问列表中最后一个元素，[-N]可以访问第一个元素；"
   ],
   "id": "70f4d3131b62987a"
  },
  {
   "metadata": {
    "ExecuteTime": {
     "end_time": "2025-08-16T16:11:02.244290Z",
     "start_time": "2025-08-16T16:11:02.232474Z"
    }
   },
   "cell_type": "code",
   "source": [
    "items8 =  ['apple', 'waxberry', 'pitaya', 'peach', 'watermelon']\n",
    "print(items8[0])\n",
    "print(items8[2])\n",
    "print(items8[4])\n",
    "items8[2] = 'durian'\n",
    "print(items8)\n",
    "print(items8[-5])\n",
    "print(items8[-4])\n",
    "print(items8[-1])\n",
    "items8[-4] = 'strawberry'\n",
    "print(items8)"
   ],
   "id": "abf15a16f3d0454d",
   "outputs": [
    {
     "name": "stdout",
     "output_type": "stream",
     "text": [
      "apple\n",
      "pitaya\n",
      "watermelon\n",
      "['apple', 'waxberry', 'durian', 'peach', 'watermelon']\n",
      "apple\n",
      "waxberry\n",
      "watermelon\n",
      "['apple', 'strawberry', 'durian', 'peach', 'watermelon']\n",
      "['apple', 'strawberry', 'durian', 'peach']\n"
     ]
    }
   ],
   "execution_count": 14
  },
  {
   "metadata": {},
   "cell_type": "markdown",
   "source": "如果希望一次性访问列表中的多个元素，我们可以使用切片运算。切片运算是形如[start:end:stride]的运算符，其中start代表访问列表元素的起始位置，end代表访问列表元素的终止位置（终止位置的元素无法访问），而stride则代表了跨度，简单的说就是位置的增量，比如我们访问的第一个元素在start位置，那么第二个元素就在start + stride位置，当然start + stride要小于end",
   "id": "1b15036b2b1abb04"
  },
  {
   "metadata": {
    "ExecuteTime": {
     "end_time": "2025-08-16T16:55:17.947986Z",
     "start_time": "2025-08-16T16:55:17.938782Z"
    }
   },
   "cell_type": "code",
   "source": [
    "items8 =  ['apple', 'waxberry', 'pitaya', 'peach', 'watermelon']\n",
    "items8[2] = 'durian'\n",
    "items8[-4] = 'strawberry'\n",
    "print(items8)\n",
    "print(items8[1:3:1])\n",
    "print(items8[0:3:1])\n",
    "print(items8[0:5:2])\n",
    "print(items8[-4:-2:1])\n",
    "print(items8[-2:-6:-1])"
   ],
   "id": "fbe6992e8e345c9f",
   "outputs": [
    {
     "name": "stdout",
     "output_type": "stream",
     "text": [
      "['apple', 'strawberry', 'durian', 'peach', 'watermelon']\n",
      "['strawberry', 'durian']\n",
      "['apple', 'strawberry', 'durian']\n",
      "['apple', 'durian', 'watermelon']\n",
      "['strawberry', 'durian']\n",
      "['peach', 'durian', 'strawberry', 'apple']\n"
     ]
    }
   ],
   "execution_count": 7
  },
  {
   "metadata": {},
   "cell_type": "markdown",
   "source": "如果start值等于0，那么在使用切片运算符时可以将其省略；如果end值等于N，N代表列表元素的个数，那么在使用切片运算符时可以将其省略；如果stride值等于1，那么在使用切片运算符时也可以将其省略。所以，下面的代码跟上面的代码作用完全相同。",
   "id": "64f803077c8519c3"
  },
  {
   "metadata": {
    "ExecuteTime": {
     "end_time": "2025-08-16T16:58:50.413702Z",
     "start_time": "2025-08-16T16:58:50.403630Z"
    }
   },
   "cell_type": "code",
   "source": [
    "print(items8[1:3])     # ['strawberry', 'durian']\n",
    "print(items8[:3:1])    # ['apple', 'strawberry', 'durian']\n",
    "print(items8[::2])     # ['apple', 'durian', 'watermelon']\n",
    "print(items8[-4:-2])   # ['strawberry', 'durian']\n",
    "print(items8[-2::-1])  # ['peach', 'durian', 'strawberry', 'apple']"
   ],
   "id": "902e226473a48895",
   "outputs": [
    {
     "name": "stdout",
     "output_type": "stream",
     "text": [
      "['strawberry', 'durian']\n",
      "['apple', 'strawberry', 'durian']\n",
      "['apple', 'durian', 'watermelon']\n",
      "['strawberry', 'durian']\n",
      "['peach', 'durian', 'strawberry', 'apple']\n"
     ]
    }
   ],
   "execution_count": 8
  },
  {
   "metadata": {},
   "cell_type": "markdown",
   "source": "通过切片操作修改列表中的元素。",
   "id": "637869c14a12e133"
  },
  {
   "metadata": {
    "ExecuteTime": {
     "end_time": "2025-08-16T17:01:10.842740Z",
     "start_time": "2025-08-16T17:01:10.835717Z"
    }
   },
   "cell_type": "code",
   "source": [
    "items8[1:3] = ['x','o']\n",
    "print(items8)"
   ],
   "id": "654c24945c00fe40",
   "outputs": [
    {
     "name": "stdout",
     "output_type": "stream",
     "text": [
      "['apple', 'x', 'o', 'peach', 'watermelon']\n"
     ]
    }
   ],
   "execution_count": 9
  },
  {
   "metadata": {},
   "cell_type": "markdown",
   "source": "<font color=blue size=4>两个列表还可以做关系运算。我们可以比较两个列表是否相等，也可以给两个列表比大小。代码如下：",
   "id": "2452e2f5a484273d"
  },
  {
   "metadata": {
    "ExecuteTime": {
     "end_time": "2025-08-16T17:04:37.018909Z",
     "start_time": "2025-08-16T17:04:37.011463Z"
    }
   },
   "cell_type": "code",
   "source": [
    "nums1 = [1,2,3,4]\n",
    "nums2 = list(range(1,5))\n",
    "nums3 = [3,2,1]\n",
    "print(nums1 == nums2) #True\n",
    "print(nums1 != nums2) #False\n",
    "print(nums1 < nums3) #True\n",
    "print(nums2 > nums3) #False"
   ],
   "id": "5850061eb2fad62a",
   "outputs": [
    {
     "name": "stdout",
     "output_type": "stream",
     "text": [
      "True\n",
      "False\n",
      "True\n",
      "False\n"
     ]
    }
   ],
   "execution_count": 10
  },
  {
   "metadata": {},
   "cell_type": "markdown",
   "source": "说明：上面的nums1和nums2对应元素完全相同，所以==运算的结果是True。nums2和nums3的比较，由于nums2的第一个元素1小于nums3的第一个元素3，所以nums2 >= nums3比较的结果是False。两个列表的关系运算在实际工作并不那么常用，如果实在不理解就跳过吧，不用纠结。",
   "id": "3c1ed0efc3f3b866"
  },
  {
   "metadata": {},
   "cell_type": "markdown",
   "source": "# 元素的遍历",
   "id": "79705509357cbd70"
  },
  {
   "metadata": {},
   "cell_type": "markdown",
   "source": [
    "如果想逐个取出列表中的元素，可以使用for-in循环。有以下两种做法：\n",
    "方法一：在循环结构中通过索引运算，遍历列表元素"
   ],
   "id": "e6281e3ac5e09877"
  },
  {
   "metadata": {
    "ExecuteTime": {
     "end_time": "2025-08-16T17:09:32.813948Z",
     "start_time": "2025-08-16T17:09:32.806031Z"
    }
   },
   "cell_type": "code",
   "source": [
    "language = ['Python','Java','C++','Kotlin']\n",
    "for index in range(len(language)):\n",
    "    print(language[index])"
   ],
   "id": "f9e7fb0ff9238270",
   "outputs": [
    {
     "name": "stdout",
     "output_type": "stream",
     "text": [
      "Python\n",
      "Java\n",
      "C++\n",
      "Kotlin\n"
     ]
    }
   ],
   "execution_count": 11
  },
  {
   "metadata": {},
   "cell_type": "markdown",
   "source": [
    "说明：上面len函数获取列表元素的个数N，而range（N）则构成从0~N-1的范围，刚好作为列表元素的索引。\n",
    "方法二：直接对列表做循环，循环变量就是列表元素的代表."
   ],
   "id": "1a48daaf2210ef27"
  },
  {
   "metadata": {
    "ExecuteTime": {
     "end_time": "2025-08-16T17:38:01.683881Z",
     "start_time": "2025-08-16T17:38:01.676073Z"
    }
   },
   "cell_type": "code",
   "source": [
    "languages = ['Python','Java','C++','Kotlin']\n",
    "for language in languages:\n",
    "    print(language)"
   ],
   "id": "b66e72288934d0a2",
   "outputs": [
    {
     "name": "stdout",
     "output_type": "stream",
     "text": [
      "Python\n",
      "Java\n",
      "C++\n",
      "Kotlin\n"
     ]
    }
   ],
   "execution_count": 12
  },
  {
   "metadata": {},
   "cell_type": "markdown",
   "source": [
    "# 总结\n",
    "我们用列表的知识重构上面“掷筛子”统计每种点数出现次数的代码。"
   ],
   "id": "6165f6cf3428cad7"
  },
  {
   "metadata": {
    "ExecuteTime": {
     "end_time": "2025-08-16T17:42:06.046267Z",
     "start_time": "2025-08-16T17:42:06.032267Z"
    }
   },
   "cell_type": "code",
   "source": [
    "\"\"\"\n",
    "将一颗色子掷6000次，统计每种点数出现的次数\n",
    "\"\"\"\n",
    "import random\n",
    "counters = [0]*6\n",
    "for _ in range(6000):\n",
    "    face = random.randrange(1,7)\n",
    "    counters[face-1] += 1\n",
    "\n",
    "for face in range(1,7):\n",
    "    print(f'{face}点数出现了{counters[face-1]}次')"
   ],
   "id": "8f6215d4d1d7843e",
   "outputs": [
    {
     "name": "stdout",
     "output_type": "stream",
     "text": [
      "1点数出现了1001次\n",
      "2点数出现了982次\n",
      "3点数出现了1009次\n",
      "4点数出现了982次\n",
      "5点数出现了1044次\n",
      "6点数出现了982次\n"
     ]
    }
   ],
   "execution_count": 13
  },
  {
   "metadata": {},
   "cell_type": "markdown",
   "source": "上面的代码中，我们用counters列表中的六个元素分别表示 1 到 6 点出现的次数，最开始的时候六个元素的值都是 0。接下来，我们用 1 到 6 均匀分布的随机数模拟掷色子，如果摇出 1 点，counters[0]的值加 1，如果摇出 2 点，counters[1]的值加 1，以此类推。大家感受一下，由于使用了列表类型加上循环结构，我们对数据的处理是批量性的，这就使得修改后的代码比之前的代码要简单优雅得多。",
   "id": "fa326f5a0f211932"
  }
 ],
 "metadata": {
  "kernelspec": {
   "display_name": "Python 3",
   "language": "python",
   "name": "python3"
  },
  "language_info": {
   "codemirror_mode": {
    "name": "ipython",
    "version": 2
   },
   "file_extension": ".py",
   "mimetype": "text/x-python",
   "name": "python",
   "nbconvert_exporter": "python",
   "pygments_lexer": "ipython2",
   "version": "2.7.6"
  }
 },
 "nbformat": 4,
 "nbformat_minor": 5
}
